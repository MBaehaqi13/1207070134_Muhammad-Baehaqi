{
 "cells": [
  {
   "cell_type": "code",
   "execution_count": 1,
   "metadata": {},
   "outputs": [
    {
     "ename": "ModuleNotFoundError",
     "evalue": "No module named 'mahotas'",
     "output_type": "error",
     "traceback": [
      "\u001b[1;31m---------------------------------------------------------------------------\u001b[0m",
      "\u001b[1;31mModuleNotFoundError\u001b[0m                       Traceback (most recent call last)",
      "Cell \u001b[1;32mIn[1], line 1\u001b[0m\n\u001b[1;32m----> 1\u001b[0m \u001b[39mimport\u001b[39;00m \u001b[39mmahotas\u001b[39;00m \u001b[39mas\u001b[39;00m \u001b[39mmh\u001b[39;00m\n\u001b[0;32m      2\u001b[0m \u001b[39mimport\u001b[39;00m \u001b[39mnumpy\u001b[39;00m \u001b[39mas\u001b[39;00m \u001b[39mnp\u001b[39;00m\n\u001b[0;32m      3\u001b[0m \u001b[39mfrom\u001b[39;00m \u001b[39mpylab\u001b[39;00m \u001b[39mimport\u001b[39;00m imshow, show \n",
      "\u001b[1;31mModuleNotFoundError\u001b[0m: No module named 'mahotas'"
     ]
    }
   ],
   "source": [
    "import mahotas as mh\n",
    "import numpy as np\n",
    "from pylab import imshow, show \n",
    "\n",
    "regions = np.zeros((8,8), bool)\n",
    "\n",
    "regions[:4,:3] = 1 \n",
    "regions[6:,:3] = 1\n",
    "regions[:4,5:] = 1 \n",
    "regions[6:,5:] = 1 \n",
    "\n",
    "labeled, nr_objects = mh.label(regions)\n",
    "\n",
    "imshow(labeled, interpolation='nearest')\n",
    "show()\n",
    "\n",
    "labeled,nr_objects = mh.label(regions, np.ones((3,3), bool))\n",
    "sizes = mh.labeled.labeled_size(labeled)\n",
    "print('Background size', sizes[0])\n",
    "print('Size of first region: {}'.format(sizes[1]))\n",
    "\n",
    "array = np.random.random_sample(regions.shape)\n",
    "sums = mh.labeled_sum(array, labeled)\n",
    "print('Sum of first region: {}'.format(sums[1]))\n"
   ]
  }
 ],
 "metadata": {
  "kernelspec": {
   "display_name": "Python 3",
   "language": "python",
   "name": "python3"
  },
  "language_info": {
   "codemirror_mode": {
    "name": "ipython",
    "version": 3
   },
   "file_extension": ".py",
   "mimetype": "text/x-python",
   "name": "python",
   "nbconvert_exporter": "python",
   "pygments_lexer": "ipython3",
   "version": "3.11.2"
  },
  "orig_nbformat": 4
 },
 "nbformat": 4,
 "nbformat_minor": 2
}
